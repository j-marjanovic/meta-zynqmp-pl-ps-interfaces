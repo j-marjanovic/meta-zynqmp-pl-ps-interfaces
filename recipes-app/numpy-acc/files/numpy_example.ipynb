{
 "cells": [
  {
   "cell_type": "markdown",
   "metadata": {},
   "source": [
    "# Numpy acceleration example\n",
    "\n",
    "Jan Marjanovic, december 2021\n",
    "\n",
    "This Jupyter notebook is a proof-of-concept for accelerating Numpy with FPGA. It uses [AXI Proxy](https://github.com/j-marjanovic/chisel-stuff/tree/master/example-12-axi-proxy) to read and write from and to a Numpy array.\n",
    "\n",
    "![AXI Proxy in Vivado IP Integrator](axi_proxy_in_vivado.png)"
   ]
  },
  {
   "cell_type": "markdown",
   "metadata": {},
   "source": [
    "## Logging"
   ]
  },
  {
   "cell_type": "code",
   "execution_count": 1,
   "metadata": {},
   "outputs": [],
   "source": [
    "import logging\n",
    "\n",
    "logging.basicConfig(level=logging.INFO)"
   ]
  },
  {
   "cell_type": "markdown",
   "metadata": {},
   "source": [
    "## FPGA configuration\n",
    "\n",
    "Before running the script we have to make sure that the FPGA has the right image. The Yocto should have installed the FPGA bitstream in `/lib/firmware/xilinx/axi_proxy/`."
   ]
  },
  {
   "cell_type": "code",
   "execution_count": 2,
   "metadata": {},
   "outputs": [
    {
     "name": "stdout",
     "output_type": "stream",
     "text": [
      "FPGA already programmed.\n"
     ]
    }
   ],
   "source": [
    "from fpga_mngr_interface.FpgaManagerInterface import FpgaManagerInterface\n",
    "\n",
    "fmi = FpgaManagerInterface()\n",
    "\n",
    "if not fmi.is_programmed():\n",
    "    print(\"Programming FPGA...\")\n",
    "    fmi.program_bitstream(\n",
    "        \"/lib/firmware/xilinx/axi_proxy/axi_proxy.bit.bin\",\n",
    "        \"/lib/firmware/xilinx/axi_proxy/axi_proxy.dtbo\")\n",
    "    print(\"Programming done.\")\n",
    "else:\n",
    "    print(\"FPGA already programmed.\")"
   ]
  },
  {
   "cell_type": "markdown",
   "metadata": {},
   "source": [
    "## Basic config\n",
    "\n",
    "We prepare the module to control the AXI Proxy IP; this will allow us to perform AXI transactions on the PL/PS ports."
   ]
  },
  {
   "cell_type": "code",
   "execution_count": 3,
   "metadata": {},
   "outputs": [],
   "source": [
    "from zynqmp_pl_ps import UioDev, AxiProxy"
   ]
  },
  {
   "cell_type": "code",
   "execution_count": 4,
   "metadata": {},
   "outputs": [],
   "source": [
    "INTERFACE = \"hpc\"\n",
    "\n",
    "uio_dev = UioDev.get_uio_dev_file(\"AxiProxy\", INTERFACE)\n",
    "axi_proxy = AxiProxy.AxiProxy(uio_dev)"
   ]
  },
  {
   "cell_type": "code",
   "execution_count": 5,
   "metadata": {},
   "outputs": [
    {
     "name": "stderr",
     "output_type": "stream",
     "text": [
      "INFO:_AxiProxy:id  = a8122081\n",
      "INFO:_AxiProxy:ver = 00000301\n"
     ]
    }
   ],
   "source": [
    "axi_proxy.print_info()"
   ]
  },
  {
   "cell_type": "code",
   "execution_count": 6,
   "metadata": {},
   "outputs": [],
   "source": [
    "axi_proxy.config_axi(cache=0xF, prot=0x2, user=0x1)"
   ]
  },
  {
   "cell_type": "markdown",
   "metadata": {},
   "source": [
    "## Numpy array\n",
    "\n",
    "We now create a Numpy array which we will try to modify from the FPGA. We use the [Array Interface](https://numpy.org/doc/stable/reference/arrays.interface.html) to get the (virtual) memory address of the data."
   ]
  },
  {
   "cell_type": "code",
   "execution_count": 7,
   "metadata": {},
   "outputs": [],
   "source": [
    "import numpy as np"
   ]
  },
  {
   "cell_type": "code",
   "execution_count": 8,
   "metadata": {},
   "outputs": [
    {
     "data": {
      "text/plain": [
       "array([ 0,  1,  2,  3,  4,  5,  6,  7,  8,  9, 10, 11, 12, 13, 14, 15],\n",
       "      dtype=int32)"
      ]
     },
     "execution_count": 8,
     "metadata": {},
     "output_type": "execute_result"
    }
   ],
   "source": [
    "xs = np.arange(16, dtype=np.int32)\n",
    "xs"
   ]
  },
  {
   "cell_type": "code",
   "execution_count": 9,
   "metadata": {},
   "outputs": [
    {
     "name": "stdout",
     "output_type": "stream",
     "text": [
      "Data virtual addr = 0xaaaac9290340, read only = False\n"
     ]
    }
   ],
   "source": [
    "vaddr, read_only = xs.__array_interface__[\"data\"]\n",
    "print(f\"Data virtual addr = {vaddr:#x}, read only = {read_only}\")"
   ]
  },
  {
   "cell_type": "markdown",
   "metadata": {},
   "source": [
    "## Virtual address to physical address\n",
    "\n",
    "The FPGA and the AXI interconnect work with physical addresses, while the software uses virtual addresses. Here we use the [pagemap](https://www.kernel.org/doc/Documentation/vm/pagemap.txt) interface to obtain the physical address of the Numpy data store."
   ]
  },
  {
   "cell_type": "code",
   "execution_count": 10,
   "metadata": {},
   "outputs": [],
   "source": [
    "import os\n",
    "import mmap\n",
    "import struct\n",
    "\n",
    "class VirtualToPhysical:\n",
    "    def __init__(self, pid):\n",
    "        self.fd = os.open(f\"/proc/{pid}/pagemap\", os.O_RDONLY)\n",
    "\n",
    "    def get_paddr(self, vaddr):\n",
    "        vpn = vaddr // mmap.PAGESIZE\n",
    "        bs = os.pread(self.fd, 8, vpn * 8)\n",
    "        data = struct.unpack(\"Q\", bs)[0]\n",
    "        pfn = data & ((1 << 55) - 1)\n",
    "        return pfn * mmap.PAGESIZE + (vaddr % mmap.PAGESIZE)"
   ]
  },
  {
   "cell_type": "code",
   "execution_count": 11,
   "metadata": {},
   "outputs": [
    {
     "name": "stdout",
     "output_type": "stream",
     "text": [
      "0xaaaac9290340 -> 0x1a705340\n"
     ]
    }
   ],
   "source": [
    "vtp = VirtualToPhysical(os.getpid())\n",
    "paddr = vtp.get_paddr(vaddr)\n",
    "print(f\"{vaddr:#x} -> {paddr:#x}\")"
   ]
  },
  {
   "cell_type": "markdown",
   "metadata": {},
   "source": [
    "## Reading the data\n",
    "\n",
    "We first use the AXI proxy to read the data from the Numpy array."
   ]
  },
  {
   "cell_type": "code",
   "execution_count": 12,
   "metadata": {},
   "outputs": [
    {
     "name": "stdout",
     "output_type": "stream",
     "text": [
      "Read duration 72 cycles\n"
     ]
    }
   ],
   "source": [
    "data, dur_read = axi_proxy.read(paddr)\n",
    "print(f\"Read duration {dur_read} cycles\")"
   ]
  },
  {
   "cell_type": "code",
   "execution_count": 13,
   "metadata": {},
   "outputs": [
    {
     "data": {
      "text/plain": [
       "[0, 1, 2, 3]"
      ]
     },
     "execution_count": 13,
     "metadata": {},
     "output_type": "execute_result"
    }
   ],
   "source": [
    "data"
   ]
  },
  {
   "cell_type": "markdown",
   "metadata": {},
   "source": [
    "We see that we have managed to read the data from the Numpy array.\n",
    "\n",
    "## Writting the data\n",
    "\n",
    "Now we try performing the same operation in the other direction, i.e. writting into the Numpy array from the FPGA."
   ]
  },
  {
   "cell_type": "code",
   "execution_count": 14,
   "metadata": {},
   "outputs": [
    {
     "name": "stdout",
     "output_type": "stream",
     "text": [
      "Write duration 47 cycles\n"
     ]
    }
   ],
   "source": [
    "dur_write = axi_proxy.write(paddr, [100, 200, 300, 400])\n",
    "print(f\"Write duration {dur_write} cycles\")"
   ]
  },
  {
   "cell_type": "code",
   "execution_count": 15,
   "metadata": {},
   "outputs": [
    {
     "data": {
      "text/plain": [
       "array([100, 200, 300, 400,   0,   0,   0,   0,   0,   0,   0,   0,   0,\n",
       "         0,   0,   0], dtype=int32)"
      ]
     },
     "execution_count": 15,
     "metadata": {},
     "output_type": "execute_result"
    }
   ],
   "source": [
    "xs"
   ]
  },
  {
   "cell_type": "markdown",
   "metadata": {},
   "source": [
    "We see that the content of the Numpy array has changed. Keep in mind that we do a full 64-byte write (one full cache line), but the IP only allows setting the first 16 bytes (first 4 `int32` samples), the remaining 48 bytes are set to 0.\n",
    "\n",
    "## Conclusion\n",
    "\n",
    "We have demonstrated that we can use a PL/PS port to modify the content of a Numpy array in a cache-aware fashion. While the example presented here is very primitive, it provides all building blocks to develop custom accelerators."
   ]
  }
 ],
 "metadata": {
  "interpreter": {
   "hash": "37d572da51ac27e05b1f30b485ccffdabd2f5780a4592fbb157e3b50942fa9dc"
  },
  "kernelspec": {
   "display_name": "Python 3",
   "language": "python",
   "name": "python3"
  },
  "language_info": {
   "codemirror_mode": {
    "name": "ipython",
    "version": 3
   },
   "file_extension": ".py",
   "mimetype": "text/x-python",
   "name": "python",
   "nbconvert_exporter": "python",
   "pygments_lexer": "ipython3",
   "version": "3.8.5"
  }
 },
 "nbformat": 4,
 "nbformat_minor": 2
}
